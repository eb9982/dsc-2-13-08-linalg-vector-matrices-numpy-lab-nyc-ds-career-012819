{
 "cells": [
  {
   "cell_type": "markdown",
   "metadata": {},
   "source": [
    "# Vectors and Matrices in Numpy - Lab\n",
    "\n",
    "## Introduction\n",
    "\n",
    "This lab will ask you to perform some simple matrix creation and manipulation exercises based on what we have covered so far in this section. The key takeaway here for you is to be able to understand how to using indexing with matrices and vectors while applying some basic operations.\n",
    "\n",
    "## Objectives\n",
    "You will be able to:\n",
    "* Define vectors and matrices in NumPy\n",
    "* Check the shape of vectors and matrices\n",
    "* Access and manipulate individual scalar components of a matrix. "
   ]
  },
  {
   "cell_type": "markdown",
   "metadata": {},
   "source": [
    "## 1. Define two arrays A (4x2) and B (2x3) \n",
    "```\n",
    "A = 1402, 191 \n",
    "    1371, 821 \n",
    "    949, 1437\n",
    "    147, 1448\n",
    "    \n",
    "B = 1, 2, 3\n",
    "    4, 5, 6\n",
    "    ```"
   ]
  },
  {
   "cell_type": "code",
   "execution_count": 2,
   "metadata": {},
   "outputs": [],
   "source": [
    "import numpy as np"
   ]
  },
  {
   "cell_type": "code",
   "execution_count": 13,
   "metadata": {},
   "outputs": [],
   "source": [
    "# Code Here\n",
    "A = np.array([[1402,191],[1371,821],[949,1437],[147,1448]])\n",
    "B = np.array([[1,2,3],[4,5,6]])"
   ]
  },
  {
   "cell_type": "markdown",
   "metadata": {},
   "source": [
    "## 2. Print the dimensions of A and B "
   ]
  },
  {
   "cell_type": "code",
   "execution_count": 14,
   "metadata": {},
   "outputs": [
    {
     "name": "stdout",
     "output_type": "stream",
     "text": [
      "(4, 2)\n",
      "(2, 3)\n"
     ]
    }
   ],
   "source": [
    "# Code Here\n",
    "print(A.shape)\n",
    "print(B.shape)"
   ]
  },
  {
   "cell_type": "markdown",
   "metadata": {},
   "source": [
    "## 3. Print some of the elements from A at following locations\n",
    "* first row and first column\n",
    "* first row and second column\n",
    "* third row and second column\n",
    "* fourth row and first column"
   ]
  },
  {
   "cell_type": "code",
   "execution_count": 24,
   "metadata": {},
   "outputs": [
    {
     "data": {
      "text/plain": [
       "array([[0., 0., 0.],\n",
       "       [0., 0., 0.],\n",
       "       [0., 0., 0.]])"
      ]
     },
     "execution_count": 24,
     "metadata": {},
     "output_type": "execute_result"
    }
   ],
   "source": [
    "# Code Here\n",
    "A[0][0]\n",
    "A[0][1]\n",
    "A[2][1]\n",
    "A[3][0]"
   ]
  },
  {
   "cell_type": "markdown",
   "metadata": {},
   "source": [
    "## 4. Write a routine to populate matrix with random data\n",
    "* Create an 3x3 numpy array with all zeros (use `np.zeros()`)\n",
    "* Access each location i,j of this matrix and fill in random values between the range 1 and 10. "
   ]
  },
  {
   "cell_type": "code",
   "execution_count": 36,
   "metadata": {},
   "outputs": [
    {
     "data": {
      "text/plain": [
       "array([[7., 5., 6.],\n",
       "       [8., 4., 1.],\n",
       "       [2., 5., 1.]])"
      ]
     },
     "execution_count": 36,
     "metadata": {},
     "output_type": "execute_result"
    }
   ],
   "source": [
    "import random\n",
    "# Code Here (due to random data , your output might be different)\n",
    "Y = np.zeros((3,3))\n",
    "for x in range(0, Y.shape[0]):\n",
    "    for y in range(0, Y.shape[1]):\n",
    "        Y[x][y] = random.randrange(1, 10) \n",
    "Y"
   ]
  },
  {
   "cell_type": "markdown",
   "metadata": {},
   "source": [
    "## 5. Turn above routine into a function.\n",
    "* Create two 4x4 zero valued matrices and fill with random data using the function\n",
    "* Add the matrices together in numpy \n",
    "* Show the results"
   ]
  },
  {
   "cell_type": "code",
   "execution_count": 46,
   "metadata": {},
   "outputs": [
    {
     "data": {
      "text/plain": [
       "array([[6., 2., 1., 4., 5., 8., 9.],\n",
       "       [4., 3., 8., 1., 4., 1., 7.],\n",
       "       [6., 5., 4., 4., 9., 6., 3.],\n",
       "       [9., 2., 8., 2., 8., 7., 1.],\n",
       "       [4., 1., 3., 7., 3., 4., 3.],\n",
       "       [9., 1., 6., 8., 3., 1., 7.],\n",
       "       [2., 5., 6., 4., 5., 1., 3.]])"
      ]
     },
     "execution_count": 46,
     "metadata": {},
     "output_type": "execute_result"
    }
   ],
   "source": [
    "# Code Here (due to random data , your output might be different)\n",
    "def makerandomarray(x,y):\n",
    "    Y = np.zeros((x,y))\n",
    "    for x in range(0, Y.shape[0]):\n",
    "        for y in range(0, Y.shape[1]):\n",
    "            Y[x][y] = random.randrange(1, 10) \n",
    "    return Y\n",
    "makerandomarray(7,7)"
   ]
  },
  {
   "cell_type": "markdown",
   "metadata": {},
   "source": [
    "## Summary \n",
    "\n",
    "In this lab, we saw how to create and manipulate vectors and matrices in numpy. We shall now move forward to learning more complex operations including dot products and inverses. "
   ]
  }
 ],
 "metadata": {
  "kernelspec": {
   "display_name": "Python 3",
   "language": "python",
   "name": "python3"
  },
  "language_info": {
   "codemirror_mode": {
    "name": "ipython",
    "version": 3
   },
   "file_extension": ".py",
   "mimetype": "text/x-python",
   "name": "python",
   "nbconvert_exporter": "python",
   "pygments_lexer": "ipython3",
   "version": "3.6.6"
  }
 },
 "nbformat": 4,
 "nbformat_minor": 2
}
